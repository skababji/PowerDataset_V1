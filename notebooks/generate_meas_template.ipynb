{
 "cells": [
  {
   "cell_type": "code",
   "execution_count": 1,
   "id": "grateful-facial",
   "metadata": {},
   "outputs": [],
   "source": [
    "import sys\n",
    "sys.path.insert(0, '../')\n",
    "\n",
    "from src.power.gen_scen_fnctns import gen_meas_picker"
   ]
  },
  {
   "cell_type": "code",
   "execution_count": 2,
   "id": "engaged-bride",
   "metadata": {},
   "outputs": [],
   "source": [
    "import pandapower.networks as nw"
   ]
  },
  {
   "cell_type": "markdown",
   "id": "pretty-reader",
   "metadata": {},
   "source": [
    "## Select your base Power Grid from Pandapower for your research"
   ]
  },
  {
   "cell_type": "code",
   "execution_count": 3,
   "id": "lasting-bread",
   "metadata": {},
   "outputs": [],
   "source": [
    "net=nw.case118()"
   ]
  },
  {
   "cell_type": "markdown",
   "id": "suburban-justice",
   "metadata": {},
   "source": [
    "## Generate list of availble measurements"
   ]
  },
  {
   "cell_type": "code",
   "execution_count": 4,
   "id": "greatest-death",
   "metadata": {},
   "outputs": [
    {
     "name": "stdout",
     "output_type": "stream",
     "text": [
      "Please go to ../runs/meas_template.csv and select the measurements you need for your study.\n"
     ]
    }
   ],
   "source": [
    "gen_meas_picker(net)"
   ]
  }
 ],
 "metadata": {
  "kernelspec": {
   "display_name": "Python 3",
   "language": "python",
   "name": "python3"
  },
  "language_info": {
   "codemirror_mode": {
    "name": "ipython",
    "version": 3
   },
   "file_extension": ".py",
   "mimetype": "text/x-python",
   "name": "python",
   "nbconvert_exporter": "python",
   "pygments_lexer": "ipython3",
   "version": "3.9.6"
  }
 },
 "nbformat": 4,
 "nbformat_minor": 5
}
